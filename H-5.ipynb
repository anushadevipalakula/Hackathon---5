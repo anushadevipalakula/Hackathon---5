{
 "cells": [
  {
   "cell_type": "code",
   "execution_count": 2,
   "id": "4b9dad1f-246e-4a66-a400-ceb742f05eab",
   "metadata": {},
   "outputs": [
    {
     "name": "stdout",
     "output_type": "stream",
     "text": [
      "Welcome to the Electronic Voting System\n",
      "\n",
      "Options:\n",
      "1. Cast Vote\n",
      "2. Show Results\n",
      "3. Exit\n"
     ]
    },
    {
     "name": "stdin",
     "output_type": "stream",
     "text": [
      "Enter your choice:  1\n"
     ]
    },
    {
     "name": "stdout",
     "output_type": "stream",
     "text": [
      "Your vote code is: AXQFQL\n",
      "Candidates:\n",
      "1. Alice\n",
      "2. Bob\n",
      "3. Charlie\n"
     ]
    },
    {
     "name": "stdin",
     "output_type": "stream",
     "text": [
      "Select candidate number:  2\n"
     ]
    },
    {
     "name": "stdout",
     "output_type": "stream",
     "text": [
      "Vote cast successfully.\n",
      "\n",
      "Options:\n",
      "1. Cast Vote\n",
      "2. Show Results\n",
      "3. Exit\n"
     ]
    },
    {
     "name": "stdin",
     "output_type": "stream",
     "text": [
      "Enter your choice:  2\n"
     ]
    },
    {
     "name": "stdout",
     "output_type": "stream",
     "text": [
      "\n",
      "Results:\n",
      "Alice: 0 votes\n",
      "Bob: 1 votes\n",
      "Charlie: 0 votes\n",
      "\n",
      "Options:\n",
      "1. Cast Vote\n",
      "2. Show Results\n",
      "3. Exit\n"
     ]
    },
    {
     "name": "stdin",
     "output_type": "stream",
     "text": [
      "Enter your choice:  3\n"
     ]
    },
    {
     "name": "stdout",
     "output_type": "stream",
     "text": [
      "Exiting the system.\n"
     ]
    }
   ],
   "source": [
    "import random\n",
    "import string\n",
    "\n",
    "# Helper functions\n",
    "def generate_vote_code(length=6):\n",
    "    \"\"\"Generate a random code for voting.\"\"\"\n",
    "    return ''.join(random.choices(string.ascii_uppercase + string.digits, k=length))\n",
    "\n",
    "def display_options():\n",
    "    \"\"\"Display voting options to the user.\"\"\"\n",
    "    print(\"\\nOptions:\")\n",
    "    print(\"1. Cast Vote\")\n",
    "    print(\"2. Show Results\")\n",
    "    print(\"3. Exit\")\n",
    "\n",
    "def cast_vote(candidates):\n",
    "    \"\"\"Cast a vote for a candidate.\"\"\"\n",
    "    vote_code = generate_vote_code()\n",
    "    print(f\"Your vote code is: {vote_code}\")\n",
    "    \n",
    "    print(\"Candidates:\")\n",
    "    for index, candidate in enumerate(candidates):\n",
    "        print(f\"{index + 1}. {candidate}\")\n",
    "\n",
    "    try:\n",
    "        choice = int(input(\"Select candidate number: \")) - 1\n",
    "        if choice < 0 or choice >= len(candidates):\n",
    "            print(\"Invalid candidate number.\")\n",
    "            return\n",
    "        \n",
    "        # Store vote with the generated code\n",
    "        with open('votes.txt', 'a') as file:\n",
    "            file.write(f\"{vote_code}:{choice}\\n\")\n",
    "        print(\"Vote cast successfully.\")\n",
    "\n",
    "    except ValueError:\n",
    "        print(\"Invalid input. Please enter a number.\")\n",
    "\n",
    "def show_results(candidates):\n",
    "    \"\"\"Show results of the voting.\"\"\"\n",
    "    votes = [0] * len(candidates)\n",
    "    \n",
    "    # Read votes from file and count\n",
    "    try:\n",
    "        with open('votes.txt', 'r') as file:\n",
    "            for line in file:\n",
    "                _, candidate = line.strip().split(':')\n",
    "                candidate = int(candidate)\n",
    "                if 0 <= candidate < len(candidates):\n",
    "                    votes[candidate] += 1\n",
    "    except FileNotFoundError:\n",
    "        print(\"No votes have been cast yet.\")\n",
    "        return\n",
    "\n",
    "    print(\"\\nResults:\")\n",
    "    for index, candidate in enumerate(candidates):\n",
    "        print(f\"{candidate}: {votes[index]} votes\")\n",
    "\n",
    "def main():\n",
    "    \"\"\"Main function to run the voting system.\"\"\"\n",
    "    candidates = [\"Alice\", \"Bob\", \"Charlie\"]\n",
    "    print(\"Welcome to the Electronic Voting System\")\n",
    "\n",
    "    while True:\n",
    "        display_options()\n",
    "        choice = input(\"Enter your choice: \")\n",
    "        \n",
    "        if choice == '1':\n",
    "            cast_vote(candidates)  # Pass candidates as an argument\n",
    "        elif choice == '2':\n",
    "            show_results(candidates)\n",
    "        elif choice == '3':\n",
    "            print(\"Exiting the system.\")\n",
    "            break\n",
    "        else:\n",
    "            print(\"Invalid choice. Please try again.\")\n",
    "\n",
    "if __name__ == \"__main__\":\n",
    "    main()\n"
   ]
  },
  {
   "cell_type": "code",
   "execution_count": null,
   "id": "354714f6-e006-4c0a-bde4-e7c2db765348",
   "metadata": {},
   "outputs": [],
   "source": []
  }
 ],
 "metadata": {
  "kernelspec": {
   "display_name": "Python 3 (ipykernel)",
   "language": "python",
   "name": "python3"
  },
  "language_info": {
   "codemirror_mode": {
    "name": "ipython",
    "version": 3
   },
   "file_extension": ".py",
   "mimetype": "text/x-python",
   "name": "python",
   "nbconvert_exporter": "python",
   "pygments_lexer": "ipython3",
   "version": "3.12.4"
  }
 },
 "nbformat": 4,
 "nbformat_minor": 5
}
